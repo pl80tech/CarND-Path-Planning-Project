{
 "cells": [
  {
   "cell_type": "code",
   "execution_count": 1,
   "metadata": {},
   "outputs": [],
   "source": [
    "# -----------\n",
    "# User Instructions:\n",
    "# \n",
    "# Modify the function search so that it returns\n",
    "# a table of values called expand. This table\n",
    "# will keep track of which step each node was\n",
    "# expanded.\n",
    "#\n",
    "# Make sure that the initial cell in the grid \n",
    "# you return has the value 0.\n",
    "# ----------\n",
    "\n",
    "grid = [[0, 0, 1, 0, 0, 0],\n",
    "        [0, 0, 0, 0, 0, 0],\n",
    "        [0, 0, 1, 0, 1, 0],\n",
    "        [0, 0, 1, 0, 1, 0],\n",
    "        [0, 0, 1, 0, 1, 0]]\n",
    "init = [0, 0]\n",
    "goal = [len(grid)-1, len(grid[0])-1]\n",
    "cost = 1\n",
    "\n",
    "delta = [[-1, 0], # go up\n",
    "         [ 0,-1], # go left\n",
    "         [ 1, 0], # go down\n",
    "         [ 0, 1]] # go right\n",
    "\n",
    "delta_name = ['^', '<', 'v', '>']"
   ]
  },
  {
   "cell_type": "code",
   "execution_count": 2,
   "metadata": {},
   "outputs": [],
   "source": [
    "def search(grid,init,goal,cost):\n",
    "    # ----------------------------------------\n",
    "    # modify code below\n",
    "    # ----------------------------------------\n",
    "    closed = [[0 for row in range(len(grid[0]))] for col in range(len(grid))]\n",
    "    closed[init[0]][init[1]] = 1\n",
    "    expand = [[-1 for row in range(len(grid[0]))] for col in range(len(grid))]\n",
    "    \n",
    "    x = init[0]\n",
    "    y = init[1]\n",
    "    g = 0\n",
    "    count = 0\n",
    "    \n",
    "    path = [[g, x, y]]\n",
    "    \n",
    "    found = False  # flag that is set when search is complete\n",
    "    resign = False # flag set if we can't find expand\n",
    "    \n",
    "    while not found and not resign:\n",
    "        if len(path) == 0:\n",
    "            resign = True\n",
    "            return 'fail'\n",
    "        else:\n",
    "            path.sort()\n",
    "            path.reverse()\n",
    "            next = path.pop()\n",
    "            x = next[1]\n",
    "            y = next[2]\n",
    "            g = next[0]\n",
    "            expand[x][y] = count\n",
    "            count += 1\n",
    "            \n",
    "            if x == goal[0] and y == goal[1]:\n",
    "                found = True\n",
    "                path = [g, x, y]\n",
    "            else:\n",
    "                for i in range(len(delta)):\n",
    "                    x2 = x + delta[i][0]\n",
    "                    y2 = y + delta[i][1]\n",
    "                    if x2 >= 0 and x2 < len(grid) and y2 >=0 and y2 < len(grid[0]):\n",
    "                        if closed[x2][y2] == 0 and grid[x2][y2] == 0:\n",
    "                            g2 = g + cost\n",
    "                            print(\"[g2, x2, y2] = \", g2, x2, y2)\n",
    "                            path.append([g2, x2, y2])\n",
    "                            closed[x2][y2] = 1\n",
    "    print(\"Final path = \", path)\n",
    "    print(\"Here is the expanded table\")\n",
    "    for i in range(len(expand)):\n",
    "        print(expand[i])\n",
    "    print(\"-----------------------\")\n",
    "    \n",
    "    return expand"
   ]
  },
  {
   "cell_type": "code",
   "execution_count": 3,
   "metadata": {},
   "outputs": [
    {
     "name": "stdout",
     "output_type": "stream",
     "text": [
      "[g2, x2, y2] =  1 1 0\n",
      "[g2, x2, y2] =  1 0 1\n",
      "[g2, x2, y2] =  2 1 1\n",
      "[g2, x2, y2] =  2 2 0\n",
      "[g2, x2, y2] =  3 2 1\n",
      "[g2, x2, y2] =  3 1 2\n",
      "[g2, x2, y2] =  3 3 0\n",
      "[g2, x2, y2] =  4 1 3\n",
      "[g2, x2, y2] =  4 3 1\n",
      "[g2, x2, y2] =  4 4 0\n",
      "[g2, x2, y2] =  5 0 3\n",
      "[g2, x2, y2] =  5 2 3\n",
      "[g2, x2, y2] =  5 1 4\n",
      "[g2, x2, y2] =  5 4 1\n",
      "[g2, x2, y2] =  6 0 4\n",
      "[g2, x2, y2] =  6 1 5\n",
      "[g2, x2, y2] =  6 3 3\n",
      "[g2, x2, y2] =  7 0 5\n",
      "[g2, x2, y2] =  7 2 5\n",
      "[g2, x2, y2] =  7 4 3\n",
      "[g2, x2, y2] =  8 3 5\n",
      "[g2, x2, y2] =  9 4 5\n",
      "-----------------------\n",
      "[0, 1, -1, 11, 15, 18]\n",
      "[2, 3, 5, 8, 12, 16]\n",
      "[4, 6, -1, 13, -1, 19]\n",
      "[7, 9, -1, 17, -1, 21]\n",
      "[10, 14, -1, 20, -1, 22]\n"
     ]
    }
   ],
   "source": [
    "expansion_grid = search(grid,init,goal,cost)"
   ]
  }
 ],
 "metadata": {
  "kernelspec": {
   "display_name": "Python 3",
   "language": "python",
   "name": "python3"
  },
  "language_info": {
   "codemirror_mode": {
    "name": "ipython",
    "version": 3
   },
   "file_extension": ".py",
   "mimetype": "text/x-python",
   "name": "python",
   "nbconvert_exporter": "python",
   "pygments_lexer": "ipython3",
   "version": "3.5.2"
  },
  "widgets": {
   "state": {},
   "version": "1.1.2"
  }
 },
 "nbformat": 4,
 "nbformat_minor": 2
}
